{
  "nbformat": 4,
  "nbformat_minor": 0,
  "metadata": {
    "colab": {
      "provenance": []
    },
    "kernelspec": {
      "name": "python3",
      "display_name": "Python 3"
    }
  },
  "cells": [
    {
      "cell_type": "markdown",
      "source": [
        "# Aggregation in Pandas\n",
        "One of the many benefits of using Pandas is how easily Pandas makes it to group and aggregate data.  \n",
        "Data aggregation is a common task that you may have to perform as part of data analysis and this can be accomplished quite easily using Pandas; inbuilt functions.\n",
        "\n",
        "### Pandas Describe Function\n",
        "This function gives a general descriptive statistics for a DataFrame/Series for all numerical columns.\n",
        "Let's use the [Pima Indians Dataset](https://www.kaggle.com/datasets/uciml/pima-indians-diabetes-database) and it can be loaded from [here](https://raw.githubusercontent.com/npradaschnor/Pima-Indians-Diabetes-Dataset/master/diabetes.csv). You can use the URL to load the data directly"
      ],
      "metadata": {
        "id": "mt_VrgrvIEu5"
      }
    },
    {
      "cell_type": "code",
      "source": [
        "# Import libraries\n",
        "import pandas as pd"
      ],
      "metadata": {
        "id": "uXxCbJWmI59B"
      },
      "execution_count": null,
      "outputs": []
    },
    {
      "cell_type": "code",
      "source": [
        "# Load the data\n",
        "filename=\"https://raw.githubusercontent.com/npradaschnor/Pima-Indians-Diabetes-Dataset/master/diabetes.csv\"\n",
        "df = pd.read_csv(filename)"
      ],
      "metadata": {
        "id": "RVThgcXLI-FQ"
      },
      "execution_count": null,
      "outputs": []
    },
    {
      "cell_type": "code",
      "source": [
        "# Basic exploration\n",
        "df.head(3)"
      ],
      "metadata": {
        "id": "z_M5e4H2JIlq"
      },
      "execution_count": null,
      "outputs": []
    },
    {
      "cell_type": "code",
      "source": [
        "# What else can we check?\n"
      ],
      "metadata": {
        "id": "vFWLZqjIOBKV"
      },
      "execution_count": null,
      "outputs": []
    },
    {
      "cell_type": "code",
      "source": [
        "# Descriptive statistics with describe() method\n",
        "df.describe()"
      ],
      "metadata": {
        "id": "Ixb-u11mOGSK"
      },
      "execution_count": null,
      "outputs": []
    },
    {
      "cell_type": "markdown",
      "source": [
        "Note that this summary will be done for all numerical columns even if the underlying data is not numerical in type so you may need to slice some columns."
      ],
      "metadata": {
        "id": "RZ2cRutuON-Y"
      }
    },
    {
      "cell_type": "code",
      "source": [
        "# Describe while specifying precision\n",
        "df.describe().round(3)"
      ],
      "metadata": {
        "id": "VYTqSOuwOhT9"
      },
      "execution_count": null,
      "outputs": []
    },
    {
      "cell_type": "markdown",
      "source": [
        "You can also get individual measures from each column.  \n",
        "Let us consider the BloodPressure column"
      ],
      "metadata": {
        "id": "pBW39UmJOs6x"
      }
    },
    {
      "cell_type": "code",
      "source": [
        "# Slice the clomun\n",
        "bp_data = df['BloodPressure']"
      ],
      "metadata": {
        "id": "WhcENfHFPBim"
      },
      "execution_count": null,
      "outputs": []
    },
    {
      "cell_type": "code",
      "source": [
        "# Get the mean\n",
        "bp_data.mean()"
      ],
      "metadata": {
        "id": "MeynZK_oPJQE"
      },
      "execution_count": null,
      "outputs": []
    },
    {
      "cell_type": "code",
      "source": [
        "# Get the median\n",
        "bp_data.median()"
      ],
      "metadata": {
        "id": "Pg-PkeO8PNBZ"
      },
      "execution_count": null,
      "outputs": []
    },
    {
      "cell_type": "code",
      "source": [
        "# Get the variance\n",
        "bp_data.var()"
      ],
      "metadata": {
        "id": "BNbCCVM5PR_n"
      },
      "execution_count": null,
      "outputs": []
    },
    {
      "cell_type": "code",
      "source": [
        "# Get the standard deviation\n",
        "bp_data.std()"
      ],
      "metadata": {
        "id": "3vh5Pf_ZPf3o"
      },
      "execution_count": null,
      "outputs": []
    },
    {
      "cell_type": "code",
      "source": [
        "# Minimum\n",
        "bp_data.min()"
      ],
      "metadata": {
        "id": "XZH1Xd4sPnpf"
      },
      "execution_count": null,
      "outputs": []
    },
    {
      "cell_type": "code",
      "source": [
        "# Maximum\n",
        "bp_data.max()"
      ],
      "metadata": {
        "id": "nqlfL4ixPrFU"
      },
      "execution_count": null,
      "outputs": []
    },
    {
      "cell_type": "code",
      "source": [
        "# What is the range"
      ],
      "metadata": {
        "id": "frS2kXv9Pvsx"
      },
      "execution_count": null,
      "outputs": []
    },
    {
      "cell_type": "code",
      "source": [
        "# Getting the mode\n",
        "bp_data.mode()"
      ],
      "metadata": {
        "id": "-xur0_HmP25G"
      },
      "execution_count": null,
      "outputs": []
    },
    {
      "cell_type": "markdown",
      "metadata": {
        "id": "LW4aKXeafcra"
      },
      "source": [
        "\n"
      ]
    },
    {
      "cell_type": "markdown",
      "source": [
        "Let's use this  [data](https://drive.google.com/file/d/1wmbwbnZww7cue1FYr7aeATRAD611Kgla/view?usp=sharing) and with Pandas to answer several questions."
      ],
      "metadata": {
        "id": "P8yFvPygTCq2"
      }
    },
    {
      "cell_type": "code",
      "source": [
        "# Connecting to google drive\n",
        "from google.colab import drive\n",
        "drive.mount('/content/drive')"
      ],
      "metadata": {
        "id": "7i-MaONwU7JW"
      },
      "execution_count": null,
      "outputs": []
    },
    {
      "cell_type": "code",
      "metadata": {
        "id": "EPmQXuKXeIfb"
      },
      "source": [
        "# Import Pandas\n",
        "import pandas as pd"
      ],
      "execution_count": null,
      "outputs": []
    },
    {
      "cell_type": "code",
      "source": [
        "# Load the data\n",
        "filename1 = '/content/drive/MyDrive/AI_ML_Data_Analytics/slides/Week 1/Sales.csv'\n",
        "df = pd.read_csv(filename1)\n",
        "\n",
        "df.head()"
      ],
      "metadata": {
        "id": "W0kw0e-fTaCV"
      },
      "execution_count": null,
      "outputs": []
    },
    {
      "cell_type": "markdown",
      "source": [
        "# Stakeholder Questions\n",
        "\n",
        "The club wants to reward students based on their contributions to the bake sale. The club needs answers to the following questions in order to determine the appropriate awards:\n",
        "\n",
        "1) How many different types of items did each student create for the bake sale? Which student provided the most Items?\n",
        "\n",
        "2) What was the total quantity of baked goods sold, by item? Which item sold the largest quantity?\n",
        "\n",
        "3) What were the total profits generated by each Item? Which Item generated the most total profit?\n",
        "\n",
        "4) Which student sold the largest quantity of items?\n",
        "\n",
        "5) Which student generated the most total profit?\n",
        "\n",
        "6) How much money has the club earned overall by the end of Day 4? How much more do they need to earn on Day 5 to meet their goal?"
      ],
      "metadata": {
        "id": "6MZ1gvv3CQ_F"
      }
    },
    {
      "cell_type": "code",
      "source": [
        "# Let us first set the item as the new index\n",
        "df.set_index('Item', inplace=True)"
      ],
      "metadata": {
        "id": "ExG1grNpYLQ-"
      },
      "execution_count": null,
      "outputs": []
    },
    {
      "cell_type": "code",
      "source": [
        "df.head()"
      ],
      "metadata": {
        "id": "y4XXdwiEYS3_"
      },
      "execution_count": null,
      "outputs": []
    },
    {
      "cell_type": "markdown",
      "source": [
        "**1) How many different types of items did each student create for the bake sale? Which student provided the most Items?**  \n",
        "We can use the **.value_counts()** method which returns the unique occurances of each value"
      ],
      "metadata": {
        "id": "umETenZIWSoO"
      }
    },
    {
      "cell_type": "code",
      "source": [
        "# Get the unique values and their count for the Student column\n",
        "df[\"Student\"].value_counts()"
      ],
      "metadata": {
        "id": "ZKGKeUwdWR8Y"
      },
      "execution_count": null,
      "outputs": []
    },
    {
      "cell_type": "code",
      "source": [
        "# Use normalize = True to output a ratio/ fraction\n",
        "df[\"Student\"].value_counts(normalize=True)\n"
      ],
      "metadata": {
        "id": "EA-nDKvaWR-1"
      },
      "execution_count": null,
      "outputs": []
    },
    {
      "cell_type": "code",
      "source": [
        "# proof\n",
        "df[\"Student\"].value_counts(normalize=True).sum()"
      ],
      "metadata": {
        "id": "2tHgMe8oWSBK"
      },
      "execution_count": null,
      "outputs": []
    },
    {
      "cell_type": "markdown",
      "source": [
        "2) What was the total quantity of baked goods sold, by item? Which item sold the largest quantity?  \n",
        "\n",
        "In order for us to answer the next question about which student sold the largest quantity of items across days 1-4.\n",
        "\n",
        "We can calculate this by leveraging Pandas' integration of NumPy aggregation functions/methods.\n",
        "\n",
        "Pandas has many aggregation methods included, here is a table with the most common aggregation functions.\n",
        "<img src=\"https://assets.codingdojo.com/boomyeah2015/codingdojo/curriculum/content/chapter/1680737011__Capture.PNG\">"
      ],
      "metadata": {
        "id": "rC1ER2PuXGIg"
      }
    },
    {
      "cell_type": "markdown",
      "source": [
        "We want to calculate the total sales for the 4 days of the bake sale thus far and to calculate the club's total profit the evening before the final day of the bake sale.\n",
        "\n",
        "Let's first apply slicing and filtering to create a list of column names that only contain the word \"Quantity\"."
      ],
      "metadata": {
        "id": "b4OHukOPXjRV"
      }
    },
    {
      "cell_type": "code",
      "source": [
        "# select quantity columns using .str.contains\n",
        "columns = df.columns\n",
        "filter_quantity_cols = columns[columns.str.contains('Quantity')]\n",
        "filter_quantity_cols"
      ],
      "metadata": {
        "id": "jmxtsNZbWSDg"
      },
      "execution_count": null,
      "outputs": []
    },
    {
      "cell_type": "code",
      "source": [
        "# Filter the dataframe\n",
        "df[filter_quantity_cols]"
      ],
      "metadata": {
        "id": "U9LT69EzWSF4"
      },
      "execution_count": null,
      "outputs": []
    },
    {
      "cell_type": "code",
      "source": [
        "# Get the sum by column\n",
        "df[filter_quantity_cols].sum()"
      ],
      "metadata": {
        "id": "ED-gNo5iWSId"
      },
      "execution_count": null,
      "outputs": []
    },
    {
      "cell_type": "code",
      "source": [
        "# Obtain the sum across rows by passing 1 for the axis argument\n",
        "df[filter_quantity_cols].sum(axis=1)"
      ],
      "metadata": {
        "id": "i5MBuJPGWSK1"
      },
      "execution_count": null,
      "outputs": []
    },
    {
      "cell_type": "code",
      "source": [
        "# Add a column to include the cumulative quantity\n",
        "df['Cumulative Quantity (Day 4)'] = df[filter_quantity_cols].sum(axis=1)\n",
        "df.head()"
      ],
      "metadata": {
        "id": "-fIVTpF4WSNX"
      },
      "execution_count": null,
      "outputs": []
    },
    {
      "cell_type": "code",
      "source": [
        "# Sort the cumulative values from high to low for better presentation\n",
        "df['Cumulative Quantity (Day 4)'].sort_values(ascending=False)"
      ],
      "metadata": {
        "id": "InbUb-WUYw9G"
      },
      "execution_count": null,
      "outputs": []
    },
    {
      "cell_type": "markdown",
      "source": [
        "**3) What were the total profits generated by each Item? Which Item generated the most total profit?**  \n",
        "We shall first get the profit for each item.  \n",
        "\n",
        "To calculate the cumulative profit for each baked good at the end of day 4,  multiply the cumulative quantity column by our Profit Per Item Column.   \n",
        "We will add the result to a new column in the dataframe called \"Cumulative Profit (Day 4)\""
      ],
      "metadata": {
        "id": "ctjVi-EfZBZH"
      }
    },
    {
      "cell_type": "code",
      "source": [
        "# Getting Profit per Item\n",
        "df[\"Profit per Item\"] = df['Price'] - df['Expense']"
      ],
      "metadata": {
        "id": "WrCU-m1dZzP2"
      },
      "execution_count": null,
      "outputs": []
    },
    {
      "cell_type": "code",
      "source": [
        "df.head(3)"
      ],
      "metadata": {
        "id": "0DYkrHQCZ-9l"
      },
      "execution_count": null,
      "outputs": []
    },
    {
      "cell_type": "code",
      "source": [
        "# Multiply two cumulative quantity by profit per item to get cumulative profit\n",
        "df['Cumulative Profit (Day 4)'] = df['Cumulative Quantity (Day 4)']  * df['Profit per Item']\n",
        "df.head()"
      ],
      "metadata": {
        "id": "g0wHRZwIYyN3"
      },
      "execution_count": null,
      "outputs": []
    },
    {
      "cell_type": "code",
      "source": [
        "# Show the cumulative profit in ascending order?"
      ],
      "metadata": {
        "id": "e5SZH8ZEYyQX"
      },
      "execution_count": null,
      "outputs": []
    },
    {
      "cell_type": "markdown",
      "source": [
        "**4) Which student sold the largest quantity of items?**  \n",
        "To address this question we will group our data by Student. We use .sum() as the aggregation calculation."
      ],
      "metadata": {
        "id": "sZ9n9QckaTEb"
      }
    },
    {
      "cell_type": "markdown",
      "source": [
        "**Pandas Groupby**  \n",
        "Pandas makes it very easy to calculate aggregations grouped by one or more columns.\n",
        "\n",
        "To use groupby:\n",
        "\n",
        "* start with a dataframe (not a Series/single column)\n",
        "* followed by groupby()with the names of the column(s) included in the parenthesis\n",
        "* an aggregation method such as .sum()"
      ],
      "metadata": {
        "id": "9F1vh-gwaXc-"
      }
    },
    {
      "cell_type": "code",
      "source": [
        "# groupby needs an aggregation functon\n",
        "student_sums = df.groupby(\"Student\").sum()\n",
        "student_sums"
      ],
      "metadata": {
        "id": "-pkgaGmwYyS4"
      },
      "execution_count": null,
      "outputs": []
    },
    {
      "cell_type": "code",
      "source": [
        "# Obtain the only the cumulative profit per student by slicing\n",
        "quantity_by_student = df.groupby('Student')['Cumulative Quantity (Day 4)'].sum()\n",
        "quantity_by_student"
      ],
      "metadata": {
        "id": "kpGTW8m9YyVP"
      },
      "execution_count": null,
      "outputs": []
    },
    {
      "cell_type": "code",
      "source": [
        "# Sort from highest to lowest profit\n",
        "quantity_by_student.sort_values(ascending=False)"
      ],
      "metadata": {
        "id": "h48yd9utYyXf"
      },
      "execution_count": null,
      "outputs": []
    },
    {
      "cell_type": "markdown",
      "source": [
        "**5) Which student generated the most total profit?**"
      ],
      "metadata": {
        "id": "K0HEaNQNbq33"
      }
    },
    {
      "cell_type": "code",
      "source": [
        "# Obtain cumulative profit grouped by student\n",
        "profit_by_student = df.groupby('Student')['Cumulative Profit (Day 4)'].sum()\n",
        "# Sort from highest to lowest\n",
        "profit_by_student.sort_values(ascending=False)"
      ],
      "metadata": {
        "id": "JQgvdFePYyaA"
      },
      "execution_count": null,
      "outputs": []
    },
    {
      "cell_type": "markdown",
      "source": [
        "**6) How much money has the club earned overall by the end of Day 4? How much more do they need to earn on Day 5 to meet their goal?**\n"
      ],
      "metadata": {
        "id": "zqpgV_Kab6V-"
      }
    },
    {
      "cell_type": "code",
      "source": [
        "# Total Profit for the club\n",
        "total_profit = df['Cumulative Profit (Day 4)'].sum()\n",
        "print(total_profit)"
      ],
      "metadata": {
        "id": "t0M5tFnwbrdu"
      },
      "execution_count": null,
      "outputs": []
    },
    {
      "cell_type": "code",
      "source": [
        "# How much more money do they need to earn 1000?"
      ],
      "metadata": {
        "id": "GGuPY1njbrgO"
      },
      "execution_count": null,
      "outputs": []
    },
    {
      "cell_type": "code",
      "source": [],
      "metadata": {
        "id": "dAjCdfDUilEt"
      },
      "execution_count": null,
      "outputs": []
    }
  ]
}